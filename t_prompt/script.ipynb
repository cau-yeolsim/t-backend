{
 "cells": [
  {
   "cell_type": "raw",
   "source": [
    "\n"
   ],
   "metadata": {
    "collapsed": false
   },
   "id": "8caf8fcdde636cf"
  },
  {
   "cell_type": "markdown",
   "source": [
    "필요한 패키지 설치"
   ],
   "metadata": {
    "collapsed": false
   },
   "id": "14e5fac32d0e473"
  },
  {
   "cell_type": "code",
   "execution_count": 19,
   "outputs": [
    {
     "name": "stdout",
     "output_type": "stream",
     "text": [
      "zsh:1: = not found\r\n",
      "zsh:1: = not found\r\n",
      "zsh:1: = not found\r\n"
     ]
    }
   ],
   "source": [
    "!pip install openai == 0.28.1\n",
    "!pip install jupyter == 1.0.0\n",
    "!pip install langchain == 0.0.304"
   ],
   "metadata": {
    "collapsed": false,
    "ExecuteTime": {
     "end_time": "2023-11-30T08:09:36.862025Z",
     "start_time": "2023-11-30T08:09:36.486507Z"
    }
   },
   "id": "d604da2ddd7d0e10"
  },
  {
   "cell_type": "code",
   "execution_count": 20,
   "outputs": [],
   "source": [
    "import os\n",
    "\n",
    "from langchain.chat_models import ChatOpenAI\n",
    "from langchain.prompts import (\n",
    "    SystemMessagePromptTemplate,\n",
    "    HumanMessagePromptTemplate,\n",
    "    ChatPromptTemplate,\n",
    ")"
   ],
   "metadata": {
    "collapsed": false,
    "ExecuteTime": {
     "end_time": "2023-11-30T08:09:38.925534Z",
     "start_time": "2023-11-30T08:09:38.923344Z"
    }
   },
   "id": "8f9815cf4e337745"
  },
  {
   "cell_type": "markdown",
   "source": [],
   "metadata": {
    "collapsed": false
   },
   "id": "66485d5afb75639b"
  },
  {
   "cell_type": "code",
   "execution_count": 22,
   "outputs": [],
   "source": [
    "OPENAI_API_KEY = input(\"Enter your OpenAI API key: \")"
   ],
   "metadata": {
    "collapsed": false,
    "ExecuteTime": {
     "end_time": "2023-11-30T08:09:50.745406Z",
     "start_time": "2023-11-30T08:09:50.092968Z"
    }
   },
   "id": "b649634a7d95056"
  },
  {
   "cell_type": "code",
   "execution_count": 23,
   "outputs": [],
   "source": [
    "chat = ChatOpenAI(\n",
    "    temperature=0,\n",
    "    openai_api_key=OPENAI_API_KEY,\n",
    "    model_name=\"gpt-3.5-turbo\",\n",
    ")"
   ],
   "metadata": {
    "collapsed": false,
    "ExecuteTime": {
     "end_time": "2023-11-30T08:09:51.512804Z",
     "start_time": "2023-11-30T08:09:51.510760Z"
    }
   },
   "id": "d58947ad09d52d15"
  },
  {
   "cell_type": "code",
   "execution_count": 24,
   "outputs": [],
   "source": [
    "system_template = \"\"\"너는 심리 상담을 위한 챗봇이야.\n",
    "답변은 무조건 한글로 해야 하고, 존댓말을 사용해야 해.\n",
    "너는 상대방의 말을 듣고, 관련된 심리학적 지식과 함께 위로를 해줘야해.\n",
    "아래의 조건들을 지키면서 너는 상대방에게 위로가 되는 말을 해야해.\n",
    "첫번째 문장에서는 상황을 이해하면서 공감해줘\n",
    "너의 대답에는 항상 심리학적 사실에 대한 근거가 있어야 해. 맹목적인 공감이 아니라 심리학적 사실에 기반해야 해.\n",
    "마지막 문장에서는 너가 했던 말들을 종합해서 다시 위로를 해주고, 다음 조언을 위한 질문을 해줘\n",
    "\"\"\""
   ],
   "metadata": {
    "collapsed": false,
    "ExecuteTime": {
     "end_time": "2023-11-30T08:09:52.699825Z",
     "start_time": "2023-11-30T08:09:52.686293Z"
    }
   },
   "id": "783eb23cc6c6766e"
  },
  {
   "cell_type": "code",
   "execution_count": 25,
   "outputs": [],
   "source": [
    "system_message_prompt_template = SystemMessagePromptTemplate.from_template(\n",
    "    system_template\n",
    ")\n",
    "human_template = \"{sample_text}\"\n",
    "human_message_prompt_template = HumanMessagePromptTemplate.from_template(human_template)\n",
    "chat_prompt_template = ChatPromptTemplate.from_messages(\n",
    "    [system_message_prompt_template, human_message_prompt_template]\n",
    ")"
   ],
   "metadata": {
    "collapsed": false,
    "ExecuteTime": {
     "end_time": "2023-11-30T08:09:54.295526Z",
     "start_time": "2023-11-30T08:09:54.268331Z"
    }
   },
   "id": "ecce210586647279"
  },
  {
   "cell_type": "code",
   "execution_count": 26,
   "outputs": [],
   "source": [
    "messages = []"
   ],
   "metadata": {
    "collapsed": false,
    "ExecuteTime": {
     "end_time": "2023-11-30T08:09:56.754462Z",
     "start_time": "2023-11-30T08:09:56.752449Z"
    }
   },
   "id": "ff1743b0287771b0"
  },
  {
   "cell_type": "code",
   "execution_count": 31,
   "outputs": [],
   "source": [
    "from langchain.schema.messages import AIMessage, HumanMessage\n",
    "\n",
    "text = input()\n",
    "final_prompt = chat_prompt_template.format_prompt(\n",
    "    output_language=\"ko\",\n",
    "    max_words=15,\n",
    "    sample_text=text,\n",
    "    messages=messages,\n",
    ").to_messages()\n",
    "# generate the output by calling ChatGPT model and passing the prompt\n",
    "completion = chat(final_prompt)\n",
    "print(\"Q: \", completion.content)\n",
    "print(\"A: \", completion.content)\n",
    "messages.append(HumanMessage(content=text))\n",
    "messages.append(AIMessage(content=completion.content))"
   ],
   "metadata": {
    "collapsed": false,
    "ExecuteTime": {
     "end_time": "2023-11-30T08:12:50.871807Z",
     "start_time": "2023-11-30T08:12:36.913946Z"
    }
   },
   "id": "94a4741527fee969"
  },
  {
   "cell_type": "markdown",
   "source": [],
   "metadata": {
    "collapsed": false
   },
   "id": "f48309d60b10596c"
  }
 ],
 "metadata": {
  "kernelspec": {
   "display_name": "Python 3",
   "language": "python",
   "name": "python3"
  },
  "language_info": {
   "codemirror_mode": {
    "name": "ipython",
    "version": 2
   },
   "file_extension": ".py",
   "mimetype": "text/x-python",
   "name": "python",
   "nbconvert_exporter": "python",
   "pygments_lexer": "ipython2",
   "version": "2.7.6"
  }
 },
 "nbformat": 4,
 "nbformat_minor": 5
}
