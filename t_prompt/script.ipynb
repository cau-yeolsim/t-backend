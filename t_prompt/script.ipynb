{
 "cells": [
  {
   "cell_type": "raw",
   "source": [
    "\n"
   ],
   "metadata": {
    "collapsed": false
   },
   "id": "8caf8fcdde636cf"
  },
  {
   "cell_type": "markdown",
   "source": [
    "필요한 패키지 설치"
   ],
   "metadata": {
    "collapsed": false
   },
   "id": "14e5fac32d0e473"
  },
  {
   "cell_type": "code",
   "execution_count": 1,
   "outputs": [
    {
     "name": "stdout",
     "output_type": "stream",
     "text": [
      "Requirement already satisfied: openai==0.28.1 in /Users/shmoon/Desktop/projects/t-backend/venv/lib/python3.11/site-packages (0.28.1)\r\n",
      "Requirement already satisfied: requests>=2.20 in /Users/shmoon/Desktop/projects/t-backend/venv/lib/python3.11/site-packages (from openai==0.28.1) (2.31.0)\r\n",
      "Requirement already satisfied: tqdm in /Users/shmoon/Desktop/projects/t-backend/venv/lib/python3.11/site-packages (from openai==0.28.1) (4.66.1)\r\n",
      "Requirement already satisfied: aiohttp in /Users/shmoon/Desktop/projects/t-backend/venv/lib/python3.11/site-packages (from openai==0.28.1) (3.8.5)\r\n",
      "Requirement already satisfied: charset-normalizer<4,>=2 in /Users/shmoon/Desktop/projects/t-backend/venv/lib/python3.11/site-packages (from requests>=2.20->openai==0.28.1) (3.2.0)\r\n",
      "Requirement already satisfied: idna<4,>=2.5 in /Users/shmoon/Desktop/projects/t-backend/venv/lib/python3.11/site-packages (from requests>=2.20->openai==0.28.1) (3.4)\r\n",
      "Requirement already satisfied: urllib3<3,>=1.21.1 in /Users/shmoon/Desktop/projects/t-backend/venv/lib/python3.11/site-packages (from requests>=2.20->openai==0.28.1) (2.0.5)\r\n",
      "Requirement already satisfied: certifi>=2017.4.17 in /Users/shmoon/Desktop/projects/t-backend/venv/lib/python3.11/site-packages (from requests>=2.20->openai==0.28.1) (2023.7.22)\r\n",
      "Requirement already satisfied: attrs>=17.3.0 in /Users/shmoon/Desktop/projects/t-backend/venv/lib/python3.11/site-packages (from aiohttp->openai==0.28.1) (23.1.0)\r\n",
      "Requirement already satisfied: multidict<7.0,>=4.5 in /Users/shmoon/Desktop/projects/t-backend/venv/lib/python3.11/site-packages (from aiohttp->openai==0.28.1) (6.0.4)\r\n",
      "Requirement already satisfied: async-timeout<5.0,>=4.0.0a3 in /Users/shmoon/Desktop/projects/t-backend/venv/lib/python3.11/site-packages (from aiohttp->openai==0.28.1) (4.0.3)\r\n",
      "Requirement already satisfied: yarl<2.0,>=1.0 in /Users/shmoon/Desktop/projects/t-backend/venv/lib/python3.11/site-packages (from aiohttp->openai==0.28.1) (1.9.2)\r\n",
      "Requirement already satisfied: frozenlist>=1.1.1 in /Users/shmoon/Desktop/projects/t-backend/venv/lib/python3.11/site-packages (from aiohttp->openai==0.28.1) (1.4.0)\r\n",
      "Requirement already satisfied: aiosignal>=1.1.2 in /Users/shmoon/Desktop/projects/t-backend/venv/lib/python3.11/site-packages (from aiohttp->openai==0.28.1) (1.3.1)\r\n",
      "Requirement already satisfied: jupyter==1.0.0 in /Users/shmoon/Desktop/projects/t-backend/venv/lib/python3.11/site-packages (1.0.0)\r\n",
      "Requirement already satisfied: notebook in /Users/shmoon/Desktop/projects/t-backend/venv/lib/python3.11/site-packages (from jupyter==1.0.0) (7.0.6)\r\n",
      "Requirement already satisfied: qtconsole in /Users/shmoon/Desktop/projects/t-backend/venv/lib/python3.11/site-packages (from jupyter==1.0.0) (5.5.1)\r\n",
      "Requirement already satisfied: jupyter-console in /Users/shmoon/Desktop/projects/t-backend/venv/lib/python3.11/site-packages (from jupyter==1.0.0) (6.6.3)\r\n",
      "Requirement already satisfied: nbconvert in /Users/shmoon/Desktop/projects/t-backend/venv/lib/python3.11/site-packages (from jupyter==1.0.0) (7.11.0)\r\n",
      "Requirement already satisfied: ipykernel in /Users/shmoon/Desktop/projects/t-backend/venv/lib/python3.11/site-packages (from jupyter==1.0.0) (6.26.0)\r\n",
      "Requirement already satisfied: ipywidgets in /Users/shmoon/Desktop/projects/t-backend/venv/lib/python3.11/site-packages (from jupyter==1.0.0) (8.1.1)\r\n",
      "Requirement already satisfied: appnope in /Users/shmoon/Desktop/projects/t-backend/venv/lib/python3.11/site-packages (from ipykernel->jupyter==1.0.0) (0.1.3)\r\n",
      "Requirement already satisfied: comm>=0.1.1 in /Users/shmoon/Desktop/projects/t-backend/venv/lib/python3.11/site-packages (from ipykernel->jupyter==1.0.0) (0.2.0)\r\n",
      "Requirement already satisfied: debugpy>=1.6.5 in /Users/shmoon/Desktop/projects/t-backend/venv/lib/python3.11/site-packages (from ipykernel->jupyter==1.0.0) (1.8.0)\r\n",
      "Requirement already satisfied: ipython>=7.23.1 in /Users/shmoon/Desktop/projects/t-backend/venv/lib/python3.11/site-packages (from ipykernel->jupyter==1.0.0) (8.17.2)\r\n",
      "Requirement already satisfied: jupyter-client>=6.1.12 in /Users/shmoon/Desktop/projects/t-backend/venv/lib/python3.11/site-packages (from ipykernel->jupyter==1.0.0) (8.6.0)\r\n",
      "Requirement already satisfied: jupyter-core!=5.0.*,>=4.12 in /Users/shmoon/Desktop/projects/t-backend/venv/lib/python3.11/site-packages (from ipykernel->jupyter==1.0.0) (5.5.0)\r\n",
      "Requirement already satisfied: matplotlib-inline>=0.1 in /Users/shmoon/Desktop/projects/t-backend/venv/lib/python3.11/site-packages (from ipykernel->jupyter==1.0.0) (0.1.6)\r\n",
      "Requirement already satisfied: nest-asyncio in /Users/shmoon/Desktop/projects/t-backend/venv/lib/python3.11/site-packages (from ipykernel->jupyter==1.0.0) (1.5.8)\r\n",
      "Requirement already satisfied: packaging in /Users/shmoon/Desktop/projects/t-backend/venv/lib/python3.11/site-packages (from ipykernel->jupyter==1.0.0) (23.1)\r\n",
      "Requirement already satisfied: psutil in /Users/shmoon/Desktop/projects/t-backend/venv/lib/python3.11/site-packages (from ipykernel->jupyter==1.0.0) (5.9.6)\r\n",
      "Requirement already satisfied: pyzmq>=20 in /Users/shmoon/Desktop/projects/t-backend/venv/lib/python3.11/site-packages (from ipykernel->jupyter==1.0.0) (25.1.1)\r\n",
      "Requirement already satisfied: tornado>=6.1 in /Users/shmoon/Desktop/projects/t-backend/venv/lib/python3.11/site-packages (from ipykernel->jupyter==1.0.0) (6.3.3)\r\n",
      "Requirement already satisfied: traitlets>=5.4.0 in /Users/shmoon/Desktop/projects/t-backend/venv/lib/python3.11/site-packages (from ipykernel->jupyter==1.0.0) (5.13.0)\r\n",
      "Requirement already satisfied: widgetsnbextension~=4.0.9 in /Users/shmoon/Desktop/projects/t-backend/venv/lib/python3.11/site-packages (from ipywidgets->jupyter==1.0.0) (4.0.9)\r\n",
      "Requirement already satisfied: jupyterlab-widgets~=3.0.9 in /Users/shmoon/Desktop/projects/t-backend/venv/lib/python3.11/site-packages (from ipywidgets->jupyter==1.0.0) (3.0.9)\r\n",
      "Requirement already satisfied: prompt-toolkit>=3.0.30 in /Users/shmoon/Desktop/projects/t-backend/venv/lib/python3.11/site-packages (from jupyter-console->jupyter==1.0.0) (3.0.41)\r\n",
      "Requirement already satisfied: pygments in /Users/shmoon/Desktop/projects/t-backend/venv/lib/python3.11/site-packages (from jupyter-console->jupyter==1.0.0) (2.17.1)\r\n",
      "Requirement already satisfied: beautifulsoup4 in /Users/shmoon/Desktop/projects/t-backend/venv/lib/python3.11/site-packages (from nbconvert->jupyter==1.0.0) (4.12.2)\r\n",
      "Requirement already satisfied: bleach!=5.0.0 in /Users/shmoon/Desktop/projects/t-backend/venv/lib/python3.11/site-packages (from nbconvert->jupyter==1.0.0) (6.1.0)\r\n",
      "Requirement already satisfied: defusedxml in /Users/shmoon/Desktop/projects/t-backend/venv/lib/python3.11/site-packages (from nbconvert->jupyter==1.0.0) (0.7.1)\r\n",
      "Requirement already satisfied: jinja2>=3.0 in /Users/shmoon/Desktop/projects/t-backend/venv/lib/python3.11/site-packages (from nbconvert->jupyter==1.0.0) (3.1.2)\r\n",
      "Requirement already satisfied: jupyterlab-pygments in /Users/shmoon/Desktop/projects/t-backend/venv/lib/python3.11/site-packages (from nbconvert->jupyter==1.0.0) (0.2.2)\r\n",
      "Requirement already satisfied: markupsafe>=2.0 in /Users/shmoon/Desktop/projects/t-backend/venv/lib/python3.11/site-packages (from nbconvert->jupyter==1.0.0) (2.1.3)\r\n",
      "Requirement already satisfied: mistune<4,>=2.0.3 in /Users/shmoon/Desktop/projects/t-backend/venv/lib/python3.11/site-packages (from nbconvert->jupyter==1.0.0) (3.0.2)\r\n",
      "Requirement already satisfied: nbclient>=0.5.0 in /Users/shmoon/Desktop/projects/t-backend/venv/lib/python3.11/site-packages (from nbconvert->jupyter==1.0.0) (0.9.0)\r\n",
      "Requirement already satisfied: nbformat>=5.7 in /Users/shmoon/Desktop/projects/t-backend/venv/lib/python3.11/site-packages (from nbconvert->jupyter==1.0.0) (5.9.2)\r\n",
      "Requirement already satisfied: pandocfilters>=1.4.1 in /Users/shmoon/Desktop/projects/t-backend/venv/lib/python3.11/site-packages (from nbconvert->jupyter==1.0.0) (1.5.0)\r\n",
      "Requirement already satisfied: tinycss2 in /Users/shmoon/Desktop/projects/t-backend/venv/lib/python3.11/site-packages (from nbconvert->jupyter==1.0.0) (1.2.1)\r\n",
      "Requirement already satisfied: jupyter-server<3,>=2.4.0 in /Users/shmoon/Desktop/projects/t-backend/venv/lib/python3.11/site-packages (from notebook->jupyter==1.0.0) (2.10.1)\r\n",
      "Requirement already satisfied: jupyterlab-server<3,>=2.22.1 in /Users/shmoon/Desktop/projects/t-backend/venv/lib/python3.11/site-packages (from notebook->jupyter==1.0.0) (2.25.2)\r\n",
      "Requirement already satisfied: jupyterlab<5,>=4.0.2 in /Users/shmoon/Desktop/projects/t-backend/venv/lib/python3.11/site-packages (from notebook->jupyter==1.0.0) (4.0.9)\r\n",
      "Requirement already satisfied: notebook-shim<0.3,>=0.2 in /Users/shmoon/Desktop/projects/t-backend/venv/lib/python3.11/site-packages (from notebook->jupyter==1.0.0) (0.2.3)\r\n",
      "Requirement already satisfied: qtpy>=2.4.0 in /Users/shmoon/Desktop/projects/t-backend/venv/lib/python3.11/site-packages (from qtconsole->jupyter==1.0.0) (2.4.1)\r\n",
      "Requirement already satisfied: six>=1.9.0 in /Users/shmoon/Desktop/projects/t-backend/venv/lib/python3.11/site-packages (from bleach!=5.0.0->nbconvert->jupyter==1.0.0) (1.16.0)\r\n",
      "Requirement already satisfied: webencodings in /Users/shmoon/Desktop/projects/t-backend/venv/lib/python3.11/site-packages (from bleach!=5.0.0->nbconvert->jupyter==1.0.0) (0.5.1)\r\n",
      "Requirement already satisfied: decorator in /Users/shmoon/Desktop/projects/t-backend/venv/lib/python3.11/site-packages (from ipython>=7.23.1->ipykernel->jupyter==1.0.0) (5.1.1)\r\n",
      "Requirement already satisfied: jedi>=0.16 in /Users/shmoon/Desktop/projects/t-backend/venv/lib/python3.11/site-packages (from ipython>=7.23.1->ipykernel->jupyter==1.0.0) (0.19.1)\r\n",
      "Requirement already satisfied: stack-data in /Users/shmoon/Desktop/projects/t-backend/venv/lib/python3.11/site-packages (from ipython>=7.23.1->ipykernel->jupyter==1.0.0) (0.6.3)\r\n",
      "Requirement already satisfied: pexpect>4.3 in /Users/shmoon/Desktop/projects/t-backend/venv/lib/python3.11/site-packages (from ipython>=7.23.1->ipykernel->jupyter==1.0.0) (4.8.0)\r\n",
      "Requirement already satisfied: python-dateutil>=2.8.2 in /Users/shmoon/Desktop/projects/t-backend/venv/lib/python3.11/site-packages (from jupyter-client>=6.1.12->ipykernel->jupyter==1.0.0) (2.8.2)\r\n",
      "Requirement already satisfied: platformdirs>=2.5 in /Users/shmoon/Desktop/projects/t-backend/venv/lib/python3.11/site-packages (from jupyter-core!=5.0.*,>=4.12->ipykernel->jupyter==1.0.0) (4.0.0)\r\n",
      "Requirement already satisfied: anyio>=3.1.0 in /Users/shmoon/Desktop/projects/t-backend/venv/lib/python3.11/site-packages (from jupyter-server<3,>=2.4.0->notebook->jupyter==1.0.0) (3.7.1)\r\n",
      "Requirement already satisfied: argon2-cffi in /Users/shmoon/Desktop/projects/t-backend/venv/lib/python3.11/site-packages (from jupyter-server<3,>=2.4.0->notebook->jupyter==1.0.0) (23.1.0)\r\n",
      "Requirement already satisfied: jupyter-events>=0.9.0 in /Users/shmoon/Desktop/projects/t-backend/venv/lib/python3.11/site-packages (from jupyter-server<3,>=2.4.0->notebook->jupyter==1.0.0) (0.9.0)\r\n",
      "Requirement already satisfied: jupyter-server-terminals in /Users/shmoon/Desktop/projects/t-backend/venv/lib/python3.11/site-packages (from jupyter-server<3,>=2.4.0->notebook->jupyter==1.0.0) (0.4.4)\r\n",
      "Requirement already satisfied: overrides in /Users/shmoon/Desktop/projects/t-backend/venv/lib/python3.11/site-packages (from jupyter-server<3,>=2.4.0->notebook->jupyter==1.0.0) (7.4.0)\r\n",
      "Requirement already satisfied: prometheus-client in /Users/shmoon/Desktop/projects/t-backend/venv/lib/python3.11/site-packages (from jupyter-server<3,>=2.4.0->notebook->jupyter==1.0.0) (0.18.0)\r\n",
      "Requirement already satisfied: send2trash>=1.8.2 in /Users/shmoon/Desktop/projects/t-backend/venv/lib/python3.11/site-packages (from jupyter-server<3,>=2.4.0->notebook->jupyter==1.0.0) (1.8.2)\r\n",
      "Requirement already satisfied: terminado>=0.8.3 in /Users/shmoon/Desktop/projects/t-backend/venv/lib/python3.11/site-packages (from jupyter-server<3,>=2.4.0->notebook->jupyter==1.0.0) (0.18.0)\r\n",
      "Requirement already satisfied: websocket-client in /Users/shmoon/Desktop/projects/t-backend/venv/lib/python3.11/site-packages (from jupyter-server<3,>=2.4.0->notebook->jupyter==1.0.0) (1.6.4)\r\n",
      "Requirement already satisfied: async-lru>=1.0.0 in /Users/shmoon/Desktop/projects/t-backend/venv/lib/python3.11/site-packages (from jupyterlab<5,>=4.0.2->notebook->jupyter==1.0.0) (2.0.4)\r\n",
      "Requirement already satisfied: jupyter-lsp>=2.0.0 in /Users/shmoon/Desktop/projects/t-backend/venv/lib/python3.11/site-packages (from jupyterlab<5,>=4.0.2->notebook->jupyter==1.0.0) (2.2.0)\r\n",
      "Requirement already satisfied: babel>=2.10 in /Users/shmoon/Desktop/projects/t-backend/venv/lib/python3.11/site-packages (from jupyterlab-server<3,>=2.22.1->notebook->jupyter==1.0.0) (2.13.1)\r\n",
      "Requirement already satisfied: json5>=0.9.0 in /Users/shmoon/Desktop/projects/t-backend/venv/lib/python3.11/site-packages (from jupyterlab-server<3,>=2.22.1->notebook->jupyter==1.0.0) (0.9.14)\r\n",
      "Requirement already satisfied: jsonschema>=4.18.0 in /Users/shmoon/Desktop/projects/t-backend/venv/lib/python3.11/site-packages (from jupyterlab-server<3,>=2.22.1->notebook->jupyter==1.0.0) (4.20.0)\r\n",
      "Requirement already satisfied: requests>=2.31 in /Users/shmoon/Desktop/projects/t-backend/venv/lib/python3.11/site-packages (from jupyterlab-server<3,>=2.22.1->notebook->jupyter==1.0.0) (2.31.0)\r\n",
      "Requirement already satisfied: fastjsonschema in /Users/shmoon/Desktop/projects/t-backend/venv/lib/python3.11/site-packages (from nbformat>=5.7->nbconvert->jupyter==1.0.0) (2.19.0)\r\n",
      "Requirement already satisfied: wcwidth in /Users/shmoon/Desktop/projects/t-backend/venv/lib/python3.11/site-packages (from prompt-toolkit>=3.0.30->jupyter-console->jupyter==1.0.0) (0.2.10)\r\n",
      "Requirement already satisfied: soupsieve>1.2 in /Users/shmoon/Desktop/projects/t-backend/venv/lib/python3.11/site-packages (from beautifulsoup4->nbconvert->jupyter==1.0.0) (2.5)\r\n",
      "Requirement already satisfied: idna>=2.8 in /Users/shmoon/Desktop/projects/t-backend/venv/lib/python3.11/site-packages (from anyio>=3.1.0->jupyter-server<3,>=2.4.0->notebook->jupyter==1.0.0) (3.4)\r\n",
      "Requirement already satisfied: sniffio>=1.1 in /Users/shmoon/Desktop/projects/t-backend/venv/lib/python3.11/site-packages (from anyio>=3.1.0->jupyter-server<3,>=2.4.0->notebook->jupyter==1.0.0) (1.3.0)\r\n",
      "Requirement already satisfied: parso<0.9.0,>=0.8.3 in /Users/shmoon/Desktop/projects/t-backend/venv/lib/python3.11/site-packages (from jedi>=0.16->ipython>=7.23.1->ipykernel->jupyter==1.0.0) (0.8.3)\r\n",
      "Requirement already satisfied: attrs>=22.2.0 in /Users/shmoon/Desktop/projects/t-backend/venv/lib/python3.11/site-packages (from jsonschema>=4.18.0->jupyterlab-server<3,>=2.22.1->notebook->jupyter==1.0.0) (23.1.0)\r\n",
      "Requirement already satisfied: jsonschema-specifications>=2023.03.6 in /Users/shmoon/Desktop/projects/t-backend/venv/lib/python3.11/site-packages (from jsonschema>=4.18.0->jupyterlab-server<3,>=2.22.1->notebook->jupyter==1.0.0) (2023.11.1)\r\n",
      "Requirement already satisfied: referencing>=0.28.4 in /Users/shmoon/Desktop/projects/t-backend/venv/lib/python3.11/site-packages (from jsonschema>=4.18.0->jupyterlab-server<3,>=2.22.1->notebook->jupyter==1.0.0) (0.31.0)\r\n",
      "Requirement already satisfied: rpds-py>=0.7.1 in /Users/shmoon/Desktop/projects/t-backend/venv/lib/python3.11/site-packages (from jsonschema>=4.18.0->jupyterlab-server<3,>=2.22.1->notebook->jupyter==1.0.0) (0.13.0)\r\n",
      "Requirement already satisfied: python-json-logger>=2.0.4 in /Users/shmoon/Desktop/projects/t-backend/venv/lib/python3.11/site-packages (from jupyter-events>=0.9.0->jupyter-server<3,>=2.4.0->notebook->jupyter==1.0.0) (2.0.7)\r\n",
      "Requirement already satisfied: pyyaml>=5.3 in /Users/shmoon/Desktop/projects/t-backend/venv/lib/python3.11/site-packages (from jupyter-events>=0.9.0->jupyter-server<3,>=2.4.0->notebook->jupyter==1.0.0) (6.0.1)\r\n",
      "Requirement already satisfied: rfc3339-validator in /Users/shmoon/Desktop/projects/t-backend/venv/lib/python3.11/site-packages (from jupyter-events>=0.9.0->jupyter-server<3,>=2.4.0->notebook->jupyter==1.0.0) (0.1.4)\r\n",
      "Requirement already satisfied: rfc3986-validator>=0.1.1 in /Users/shmoon/Desktop/projects/t-backend/venv/lib/python3.11/site-packages (from jupyter-events>=0.9.0->jupyter-server<3,>=2.4.0->notebook->jupyter==1.0.0) (0.1.1)\r\n",
      "Requirement already satisfied: ptyprocess>=0.5 in /Users/shmoon/Desktop/projects/t-backend/venv/lib/python3.11/site-packages (from pexpect>4.3->ipython>=7.23.1->ipykernel->jupyter==1.0.0) (0.7.0)\r\n",
      "Requirement already satisfied: charset-normalizer<4,>=2 in /Users/shmoon/Desktop/projects/t-backend/venv/lib/python3.11/site-packages (from requests>=2.31->jupyterlab-server<3,>=2.22.1->notebook->jupyter==1.0.0) (3.2.0)\r\n",
      "Requirement already satisfied: urllib3<3,>=1.21.1 in /Users/shmoon/Desktop/projects/t-backend/venv/lib/python3.11/site-packages (from requests>=2.31->jupyterlab-server<3,>=2.22.1->notebook->jupyter==1.0.0) (2.0.5)\r\n",
      "Requirement already satisfied: certifi>=2017.4.17 in /Users/shmoon/Desktop/projects/t-backend/venv/lib/python3.11/site-packages (from requests>=2.31->jupyterlab-server<3,>=2.22.1->notebook->jupyter==1.0.0) (2023.7.22)\r\n",
      "Requirement already satisfied: argon2-cffi-bindings in /Users/shmoon/Desktop/projects/t-backend/venv/lib/python3.11/site-packages (from argon2-cffi->jupyter-server<3,>=2.4.0->notebook->jupyter==1.0.0) (21.2.0)\r\n",
      "Requirement already satisfied: executing>=1.2.0 in /Users/shmoon/Desktop/projects/t-backend/venv/lib/python3.11/site-packages (from stack-data->ipython>=7.23.1->ipykernel->jupyter==1.0.0) (2.0.1)\r\n",
      "Requirement already satisfied: asttokens>=2.1.0 in /Users/shmoon/Desktop/projects/t-backend/venv/lib/python3.11/site-packages (from stack-data->ipython>=7.23.1->ipykernel->jupyter==1.0.0) (2.4.1)\r\n",
      "Requirement already satisfied: pure-eval in /Users/shmoon/Desktop/projects/t-backend/venv/lib/python3.11/site-packages (from stack-data->ipython>=7.23.1->ipykernel->jupyter==1.0.0) (0.2.2)\r\n",
      "Requirement already satisfied: fqdn in /Users/shmoon/Desktop/projects/t-backend/venv/lib/python3.11/site-packages (from jsonschema[format-nongpl]>=4.18.0->jupyter-events>=0.9.0->jupyter-server<3,>=2.4.0->notebook->jupyter==1.0.0) (1.5.1)\r\n",
      "Requirement already satisfied: isoduration in /Users/shmoon/Desktop/projects/t-backend/venv/lib/python3.11/site-packages (from jsonschema[format-nongpl]>=4.18.0->jupyter-events>=0.9.0->jupyter-server<3,>=2.4.0->notebook->jupyter==1.0.0) (20.11.0)\r\n",
      "Requirement already satisfied: jsonpointer>1.13 in /Users/shmoon/Desktop/projects/t-backend/venv/lib/python3.11/site-packages (from jsonschema[format-nongpl]>=4.18.0->jupyter-events>=0.9.0->jupyter-server<3,>=2.4.0->notebook->jupyter==1.0.0) (2.4)\r\n",
      "Requirement already satisfied: uri-template in /Users/shmoon/Desktop/projects/t-backend/venv/lib/python3.11/site-packages (from jsonschema[format-nongpl]>=4.18.0->jupyter-events>=0.9.0->jupyter-server<3,>=2.4.0->notebook->jupyter==1.0.0) (1.3.0)\r\n",
      "Requirement already satisfied: webcolors>=1.11 in /Users/shmoon/Desktop/projects/t-backend/venv/lib/python3.11/site-packages (from jsonschema[format-nongpl]>=4.18.0->jupyter-events>=0.9.0->jupyter-server<3,>=2.4.0->notebook->jupyter==1.0.0) (1.13)\r\n",
      "Requirement already satisfied: cffi>=1.0.1 in /Users/shmoon/Desktop/projects/t-backend/venv/lib/python3.11/site-packages (from argon2-cffi-bindings->argon2-cffi->jupyter-server<3,>=2.4.0->notebook->jupyter==1.0.0) (1.16.0)\r\n",
      "Requirement already satisfied: pycparser in /Users/shmoon/Desktop/projects/t-backend/venv/lib/python3.11/site-packages (from cffi>=1.0.1->argon2-cffi-bindings->argon2-cffi->jupyter-server<3,>=2.4.0->notebook->jupyter==1.0.0) (2.21)\r\n",
      "Requirement already satisfied: arrow>=0.15.0 in /Users/shmoon/Desktop/projects/t-backend/venv/lib/python3.11/site-packages (from isoduration->jsonschema[format-nongpl]>=4.18.0->jupyter-events>=0.9.0->jupyter-server<3,>=2.4.0->notebook->jupyter==1.0.0) (1.3.0)\r\n",
      "Requirement already satisfied: types-python-dateutil>=2.8.10 in /Users/shmoon/Desktop/projects/t-backend/venv/lib/python3.11/site-packages (from arrow>=0.15.0->isoduration->jsonschema[format-nongpl]>=4.18.0->jupyter-events>=0.9.0->jupyter-server<3,>=2.4.0->notebook->jupyter==1.0.0) (2.8.19.14)\r\n",
      "Requirement already satisfied: langchain==0.0.304 in /Users/shmoon/Desktop/projects/t-backend/venv/lib/python3.11/site-packages (0.0.304)\r\n",
      "Requirement already satisfied: PyYAML>=5.3 in /Users/shmoon/Desktop/projects/t-backend/venv/lib/python3.11/site-packages (from langchain==0.0.304) (6.0.1)\r\n",
      "Requirement already satisfied: SQLAlchemy<3,>=1.4 in /Users/shmoon/Desktop/projects/t-backend/venv/lib/python3.11/site-packages (from langchain==0.0.304) (2.0.23)\r\n",
      "Requirement already satisfied: aiohttp<4.0.0,>=3.8.3 in /Users/shmoon/Desktop/projects/t-backend/venv/lib/python3.11/site-packages (from langchain==0.0.304) (3.8.5)\r\n",
      "Requirement already satisfied: anyio<4.0 in /Users/shmoon/Desktop/projects/t-backend/venv/lib/python3.11/site-packages (from langchain==0.0.304) (3.7.1)\r\n",
      "Requirement already satisfied: dataclasses-json<0.7,>=0.5.7 in /Users/shmoon/Desktop/projects/t-backend/venv/lib/python3.11/site-packages (from langchain==0.0.304) (0.6.1)\r\n",
      "Requirement already satisfied: jsonpatch<2.0,>=1.33 in /Users/shmoon/Desktop/projects/t-backend/venv/lib/python3.11/site-packages (from langchain==0.0.304) (1.33)\r\n",
      "Requirement already satisfied: langsmith<0.1.0,>=0.0.38 in /Users/shmoon/Desktop/projects/t-backend/venv/lib/python3.11/site-packages (from langchain==0.0.304) (0.0.41)\r\n",
      "Requirement already satisfied: numexpr<3.0.0,>=2.8.4 in /Users/shmoon/Desktop/projects/t-backend/venv/lib/python3.11/site-packages (from langchain==0.0.304) (2.8.7)\r\n",
      "Requirement already satisfied: numpy<2,>=1 in /Users/shmoon/Desktop/projects/t-backend/venv/lib/python3.11/site-packages (from langchain==0.0.304) (1.25.2)\r\n",
      "Requirement already satisfied: pydantic<3,>=1 in /Users/shmoon/Desktop/projects/t-backend/venv/lib/python3.11/site-packages (from langchain==0.0.304) (1.10.13)\r\n",
      "Requirement already satisfied: requests<3,>=2 in /Users/shmoon/Desktop/projects/t-backend/venv/lib/python3.11/site-packages (from langchain==0.0.304) (2.31.0)\r\n",
      "Requirement already satisfied: tenacity<9.0.0,>=8.1.0 in /Users/shmoon/Desktop/projects/t-backend/venv/lib/python3.11/site-packages (from langchain==0.0.304) (8.2.3)\r\n",
      "Requirement already satisfied: attrs>=17.3.0 in /Users/shmoon/Desktop/projects/t-backend/venv/lib/python3.11/site-packages (from aiohttp<4.0.0,>=3.8.3->langchain==0.0.304) (23.1.0)\r\n",
      "Requirement already satisfied: charset-normalizer<4.0,>=2.0 in /Users/shmoon/Desktop/projects/t-backend/venv/lib/python3.11/site-packages (from aiohttp<4.0.0,>=3.8.3->langchain==0.0.304) (3.2.0)\r\n",
      "Requirement already satisfied: multidict<7.0,>=4.5 in /Users/shmoon/Desktop/projects/t-backend/venv/lib/python3.11/site-packages (from aiohttp<4.0.0,>=3.8.3->langchain==0.0.304) (6.0.4)\r\n",
      "Requirement already satisfied: async-timeout<5.0,>=4.0.0a3 in /Users/shmoon/Desktop/projects/t-backend/venv/lib/python3.11/site-packages (from aiohttp<4.0.0,>=3.8.3->langchain==0.0.304) (4.0.3)\r\n",
      "Requirement already satisfied: yarl<2.0,>=1.0 in /Users/shmoon/Desktop/projects/t-backend/venv/lib/python3.11/site-packages (from aiohttp<4.0.0,>=3.8.3->langchain==0.0.304) (1.9.2)\r\n",
      "Requirement already satisfied: frozenlist>=1.1.1 in /Users/shmoon/Desktop/projects/t-backend/venv/lib/python3.11/site-packages (from aiohttp<4.0.0,>=3.8.3->langchain==0.0.304) (1.4.0)\r\n",
      "Requirement already satisfied: aiosignal>=1.1.2 in /Users/shmoon/Desktop/projects/t-backend/venv/lib/python3.11/site-packages (from aiohttp<4.0.0,>=3.8.3->langchain==0.0.304) (1.3.1)\r\n",
      "Requirement already satisfied: idna>=2.8 in /Users/shmoon/Desktop/projects/t-backend/venv/lib/python3.11/site-packages (from anyio<4.0->langchain==0.0.304) (3.4)\r\n",
      "Requirement already satisfied: sniffio>=1.1 in /Users/shmoon/Desktop/projects/t-backend/venv/lib/python3.11/site-packages (from anyio<4.0->langchain==0.0.304) (1.3.0)\r\n",
      "Requirement already satisfied: marshmallow<4.0.0,>=3.18.0 in /Users/shmoon/Desktop/projects/t-backend/venv/lib/python3.11/site-packages (from dataclasses-json<0.7,>=0.5.7->langchain==0.0.304) (3.20.1)\r\n",
      "Requirement already satisfied: typing-inspect<1,>=0.4.0 in /Users/shmoon/Desktop/projects/t-backend/venv/lib/python3.11/site-packages (from dataclasses-json<0.7,>=0.5.7->langchain==0.0.304) (0.9.0)\r\n",
      "Requirement already satisfied: jsonpointer>=1.9 in /Users/shmoon/Desktop/projects/t-backend/venv/lib/python3.11/site-packages (from jsonpatch<2.0,>=1.33->langchain==0.0.304) (2.4)\r\n",
      "Requirement already satisfied: typing-extensions>=4.2.0 in /Users/shmoon/Desktop/projects/t-backend/venv/lib/python3.11/site-packages (from pydantic<3,>=1->langchain==0.0.304) (4.8.0)\r\n",
      "Requirement already satisfied: urllib3<3,>=1.21.1 in /Users/shmoon/Desktop/projects/t-backend/venv/lib/python3.11/site-packages (from requests<3,>=2->langchain==0.0.304) (2.0.5)\r\n",
      "Requirement already satisfied: certifi>=2017.4.17 in /Users/shmoon/Desktop/projects/t-backend/venv/lib/python3.11/site-packages (from requests<3,>=2->langchain==0.0.304) (2023.7.22)\r\n",
      "Requirement already satisfied: packaging>=17.0 in /Users/shmoon/Desktop/projects/t-backend/venv/lib/python3.11/site-packages (from marshmallow<4.0.0,>=3.18.0->dataclasses-json<0.7,>=0.5.7->langchain==0.0.304) (23.1)\r\n",
      "Requirement already satisfied: mypy-extensions>=0.3.0 in /Users/shmoon/Desktop/projects/t-backend/venv/lib/python3.11/site-packages (from typing-inspect<1,>=0.4.0->dataclasses-json<0.7,>=0.5.7->langchain==0.0.304) (1.0.0)\r\n"
     ]
    }
   ],
   "source": [
    "!pip install openai==0.28.1\n",
    "!pip install jupyter==1.0.0\n",
    "!pip install langchain==0.0.304"
   ],
   "metadata": {
    "collapsed": false,
    "ExecuteTime": {
     "end_time": "2023-11-19T17:14:01.574994Z",
     "start_time": "2023-11-19T17:13:58.251233Z"
    }
   },
   "id": "d604da2ddd7d0e10"
  },
  {
   "cell_type": "code",
   "execution_count": 2,
   "outputs": [],
   "source": [
    "import os\n",
    "\n",
    "from langchain.chat_models import ChatOpenAI\n",
    "from langchain.prompts import (\n",
    "    SystemMessagePromptTemplate,\n",
    "    HumanMessagePromptTemplate,\n",
    "    ChatPromptTemplate,\n",
    ")"
   ],
   "metadata": {
    "collapsed": false,
    "ExecuteTime": {
     "end_time": "2023-11-19T17:15:22.820469Z",
     "start_time": "2023-11-19T17:15:22.296529Z"
    }
   },
   "id": "8f9815cf4e337745"
  },
  {
   "cell_type": "markdown",
   "source": [],
   "metadata": {
    "collapsed": false
   },
   "id": "66485d5afb75639b"
  },
  {
   "cell_type": "code",
   "execution_count": 11,
   "outputs": [],
   "source": [
    "OPENAI_API_KEY = input(\"Enter your OpenAI API key: \")"
   ],
   "metadata": {
    "collapsed": false,
    "ExecuteTime": {
     "end_time": "2023-11-19T17:16:05.407046Z",
     "start_time": "2023-11-19T17:16:01.216886Z"
    }
   },
   "id": "b649634a7d95056"
  },
  {
   "cell_type": "code",
   "execution_count": 12,
   "outputs": [],
   "source": [
    "chat = ChatOpenAI(\n",
    "    temperature=0,\n",
    "    openai_api_key=OPENAI_API_KEY,\n",
    "    model_name=\"gpt-3.5-turbo\",\n",
    ")"
   ],
   "metadata": {
    "collapsed": false,
    "ExecuteTime": {
     "end_time": "2023-11-19T17:16:06.321177Z",
     "start_time": "2023-11-19T17:16:06.318397Z"
    }
   },
   "id": "d58947ad09d52d15"
  },
  {
   "cell_type": "code",
   "execution_count": 13,
   "outputs": [],
   "source": [
    "system_template = \"\"\"너는 심리 상담을 위한 챗봇이야.\n",
    "답변은 무조건 한글로 해야 하고, 존댓말을 사용해야 해.\n",
    "너는 상대방의 말을 듣고, 관련된 심리학적 지식과 함께 위로를 해줘야해.\n",
    "아래의 조건들을 지키면서 너는 상대방에게 위로가 되는 말을 해야해.\n",
    "첫번째 문장에서는 상황을 이해하면서 공감해줘\n",
    "너의 대답에는 항상 심리학적 사실에 대한 근거가 있어야 해. 맹목적인 공감이 아니라 심리학적 사실에 기반해야 해.\n",
    "마지막 문장에서는 너가 했던 말들을 종합해서 다시 위로를 해주고, 다음 조언을 위한 질문을 해줘  \n",
    "\"\"\""
   ],
   "metadata": {
    "collapsed": false,
    "ExecuteTime": {
     "end_time": "2023-11-19T17:16:06.735081Z",
     "start_time": "2023-11-19T17:16:06.731016Z"
    }
   },
   "id": "783eb23cc6c6766e"
  },
  {
   "cell_type": "code",
   "execution_count": 14,
   "outputs": [],
   "source": [
    "system_message_prompt_template = SystemMessagePromptTemplate.from_template(\n",
    "    system_template\n",
    ")\n",
    "human_template = \"{sample_text}\"\n",
    "human_message_prompt_template = HumanMessagePromptTemplate.from_template(human_template)\n",
    "chat_prompt_template = ChatPromptTemplate.from_messages(\n",
    "    [system_message_prompt_template, human_message_prompt_template]\n",
    ")"
   ],
   "metadata": {
    "collapsed": false,
    "ExecuteTime": {
     "end_time": "2023-11-19T17:16:07.043022Z",
     "start_time": "2023-11-19T17:16:07.035671Z"
    }
   },
   "id": "ecce210586647279"
  },
  {
   "cell_type": "code",
   "execution_count": null,
   "outputs": [],
   "source": [
    "final_prompt = chat_prompt_template.format_prompt(\n",
    "    output_language=\"ko\",\n",
    "    max_words=15,\n",
    "    sample_text=\"나 요즘 일에 지친 것 같아. 번아웃이 온 것 같아\",\n",
    ").to_messages()\n",
    "# generate the output by calling ChatGPT model and passing the prompt\n",
    "completion = chat(final_prompt)"
   ],
   "metadata": {
    "collapsed": false,
    "is_executing": true,
    "ExecuteTime": {
     "start_time": "2023-11-19T17:16:07.427297Z"
    }
   },
   "id": "94a4741527fee969"
  },
  {
   "cell_type": "code",
   "execution_count": null,
   "outputs": [],
   "source": [],
   "metadata": {
    "collapsed": false
   },
   "id": "e2c2d1e463b550a3"
  }
 ],
 "metadata": {
  "kernelspec": {
   "display_name": "Python 3",
   "language": "python",
   "name": "python3"
  },
  "language_info": {
   "codemirror_mode": {
    "name": "ipython",
    "version": 2
   },
   "file_extension": ".py",
   "mimetype": "text/x-python",
   "name": "python",
   "nbconvert_exporter": "python",
   "pygments_lexer": "ipython2",
   "version": "2.7.6"
  }
 },
 "nbformat": 4,
 "nbformat_minor": 5
}
